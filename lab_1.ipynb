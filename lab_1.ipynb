{
 "cells": [
  {
   "cell_type": "markdown",
   "id": "2ba2187d",
   "metadata": {},
   "source": [
    "# Notebook 1: Introducción al aprendizaje por refuerzos\n",
    "\n",
    "Primer entregable del curso Aprendizaje por Refuerzos, de la Diplomatura en Ciencia de Datos, Aprendizaje Automático y sus Aplicaciones 2023, FaMAF, UNC.\n",
    "\n",
    "Alumno: Jerónimo Fotinós\n",
    "\n",
    "![](https://github.com/JeroFotinos/rl_diplo/blob/main/episode_0_100_sarsa_e-greedy.gif)\n"
   ]
  },
  {
   "cell_type": "markdown",
   "id": "46498351",
   "metadata": {},
   "source": [
    "## Actividades\n",
    "\n",
    "1. Implementar y ejecutar el algoritmo SARSA en \"The Cliff\".\n",
    "\n",
    "2. Implementar y ejecutar el algoritmo Q-Learning en \"The Cliff\". ¿Cómo converge con respecto a SARSA? ¿A qué se debe? Comentar.\n",
    "\n",
    "3. Ejecutando con distintos híper-parámetros, realizar una breve descripción sobre cómo afectan a la convergencia los distintos valores de $\\alpha$, $\\epsilon$ y $\\gamma$.\n",
    "\n",
    "4. (Opcional) Implementar política de exploración Softmax, en donde cada acción tiene una probabilidad $$\\pi(a \\mid s) = \\frac{e^{Q(s,a)/\\tau}}{\\sum_{\\widetilde{a} \\in A}e^{Q(s,\\widetilde{a})/\\tau}}$$\n",
    "\n",
    "5. (Opcional) Implementar Dyna-Q a partir del algoritmo Q-Learning, incorporando una actualización mediante un modelo. Comentar cómo se desempeña respecto a los demás algoritmos.\n",
    "\n",
    "\n",
    "Para dejar el lab listo para su corrección, dejar link a repo de Github con un notebook ejecutando el agente en la planilla enviada en Slack."
   ]
  },
  {
   "cell_type": "markdown",
   "id": "b56fbbd0",
   "metadata": {},
   "source": [
    "## Ambiente: The Cliff\n",
    "Algunas definiciones (see [Cliff Walking - Gymnasium Documentation](https://gymnasium.farama.org/environments/toy_text/cliff_walking/))\n",
    "- state: The world is a $4\\times12$ grid (you should rotate your head when you see the map, so as to see it extending vertically instead of horizontally), the player starts at $[3,0]$ and the goal is at $[3,11]$, with a cliff that runs along $[3, 1 \\text{ to } 10]$. There are 3 x 12 + 1 possible states. The player cannot be at the cliff, nor at the goal as the latter results in the end of the episode. The posible states are maped to a single integer (instead of a tuple) by doing `current_row * nrows + current_col` (where both the row and col start at 0). E.g. the stating position can be calculated as follows: 3 * 12 + 0 = 36.\n",
    "- actions\n",
    "    - 0: Move up\n",
    "    - 1: Move right\n",
    "    - 2: Move down\n",
    "    - 3: Move left\n",
    "- q: `dict` with `(state, a)` keys and `float` values (that stand for the value of taking that action in that state).\n",
    "- hyperparameters: `dict` defined below, with the necessary values for SARSA and Q-learning.\n",
    "- reward: -1 in every state, -100 in the cliff\n",
    "\n",
    "![](https://github.com/JeroFotinos/rl_diplo/tree/main/images/cliffwalking.png?raw=1)\n",
    "\n",
    "donde S= starting point, G= goal\n",
    "\n",
    "(imagen de Sutton y Barto, 2018)"
   ]
  },
  {
   "cell_type": "markdown",
   "id": "de84d87c",
   "metadata": {},
   "source": [
    "## Ejercicio 1\n",
    "\n",
    "Para la resolución de este laboratorio, se implementaron los algoritmos requeridos en el script [lab_1.py](https://github.com/JeroFotinos/rl_diplo/blob/main/lab_1.py), que se encuentra en el repositorio de esta notebook. De todos modos, para facilitar la corrección copiaré a continuación las partes críticas del mismo.\n",
    "\n",
    "Lo primero era implementar el algoritmo SARSA."
   ]
  },
  {
   "cell_type": "code",
   "execution_count": null,
   "id": "8704365f",
   "metadata": {},
   "outputs": [],
   "source": []
  }
 ],
 "metadata": {
  "kernelspec": {
   "display_name": "rl_diplo_kernel",
   "language": "python",
   "name": "rl_diplo_kernel"
  },
  "language_info": {
   "codemirror_mode": {
    "name": "ipython",
    "version": 3
   },
   "file_extension": ".py",
   "mimetype": "text/x-python",
   "name": "python",
   "nbconvert_exporter": "python",
   "pygments_lexer": "ipython3",
   "version": "3.10.12"
  }
 },
 "nbformat": 4,
 "nbformat_minor": 5
}
